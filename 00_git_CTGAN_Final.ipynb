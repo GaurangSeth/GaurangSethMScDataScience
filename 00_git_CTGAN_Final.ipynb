{
  "cells": [
    {
      "cell_type": "markdown",
      "metadata": {
        "id": "view-in-github",
        "colab_type": "text"
      },
      "source": [
        "<a href=\"https://colab.research.google.com/github/GaurangSeth/GaurangSethMScDataScience/blob/master/00_git_CTGAN_Final.ipynb\" target=\"_parent\"><img src=\"https://colab.research.google.com/assets/colab-badge.svg\" alt=\"Open In Colab\"/></a>"
      ]
    },
    {
      "cell_type": "code",
      "source": [
        "pip install tabgan"
      ],
      "metadata": {
        "id": "G65fMSG66aUs"
      },
      "id": "G65fMSG66aUs",
      "execution_count": null,
      "outputs": []
    },
    {
      "cell_type": "code",
      "execution_count": null,
      "id": "1ad2318b-1550-4c8c-bd43-5250690e1d68",
      "metadata": {
        "id": "1ad2318b-1550-4c8c-bd43-5250690e1d68"
      },
      "outputs": [],
      "source": [
        "import warnings\n",
        "warnings.filterwarnings('ignore')\n",
        "import os\n",
        "import io\n",
        "import requests\n",
        "\n",
        "import numpy as np\n",
        "import pandas as pd\n",
        "\n",
        "from sklearn.model_selection import train_test_split, GridSearchCV\n",
        "from sklearn import metrics\n",
        "\n",
        "from tensorflow import keras\n",
        "from tensorflow.keras.models import Sequential\n",
        "from tensorflow.keras.layers import Dense, Activation\n",
        "from tensorflow.keras.callbacks import EarlyStopping\n",
        "from tensorflow.keras.wrappers.scikit_learn import KerasRegressor\n",
        "\n",
        "from tabgan.sampler import GANGenerator"
      ]
    },
    {
      "cell_type": "code",
      "execution_count": null,
      "id": "937cc74a-5ab5-4f2f-a97a-8adbe799ead9",
      "metadata": {
        "id": "937cc74a-5ab5-4f2f-a97a-8adbe799ead9"
      },
      "outputs": [],
      "source": [
        "# Reading the actual operating dataset to generate synthetic data\n",
        "url_original_datset='https://raw.githubusercontent.com/GaurangSeth/GaurangSethMScDataScience/master/Original%20Dataset_30%20Variables_Not%20to%20be%20Shared.csv'\n",
        "original_data = pd.read_csv(url_original_datset)\n",
        "\n",
        "# Splitting the dataset into train and test data. \"Plant C5PLusYield\" is our target variable\n",
        "# 80-20 Test Train Split done\n",
        "df_x_train, df_x_test, df_y_train, df_y_test = train_test_split(original_data.drop(\"Plant C5PlusYield\", axis=1),\n",
        "                                                                original_data[\"Plant C5PlusYield\"],\n",
        "                                                                test_size=0.20,random_state=42)\n",
        "# Create dataframe versions for tabular GAN\n",
        "df_x_test, df_y_test = df_x_test.reset_index(drop=True),df_y_test.reset_index(drop=True)\n",
        "df_y_train = pd.DataFrame(df_y_train)\n",
        "df_y_test = pd.DataFrame(df_y_test)\n",
        "\n",
        "# Pandas to Numpy\n",
        "x_train = df_x_train.values\n",
        "x_test = df_x_test.values\n",
        "y_train = df_y_train.values\n",
        "y_test = df_y_test.values"
      ]
    },
    {
      "cell_type": "code",
      "execution_count": null,
      "id": "fe71a3c1",
      "metadata": {
        "id": "fe71a3c1",
        "outputId": "b462eaf4-882e-4cbe-ce09-eb0e43b09273",
        "colab": {
          "base_uri": "https://localhost:8080/"
        }
      },
      "outputs": [
        {
          "output_type": "stream",
          "name": "stdout",
          "text": [
            "Best number of layers: 2\n",
            "Best MSE score: 15.955705750056367\n"
          ]
        }
      ],
      "source": [
        "## Identifying the optimal number of Hidden layers\n",
        "# Define the Tabular GAN model builder function\n",
        "def build_gan_model(num_layers):\n",
        "    gan_model = keras.models.Sequential()\n",
        "\n",
        "    gan_model.add(keras.layers.Dense(x_train.shape[1],input_shape=(x_train.shape[1],),activation='relu'))\n",
        "    #gan_model.add(keras.layers.LeakyReLU(alpha=0.2))\n",
        "\n",
        "    for i in range(num_layers):\n",
        "        gan_model.add(keras.layers.Dense((int(x_train.shape[1]/pow(2,i+1))),activation='relu'))\n",
        "        #gan_model.add(keras.layers.LeakyReLU(alpha=0.2))\n",
        "\n",
        "    gan_model.add(keras.layers.Dense(1))\n",
        "\n",
        "    gan_model.compile(loss='mean_squared_error', optimizer='adam')\n",
        "\n",
        "    \n",
        "    return gan_model\n",
        "\n",
        "# Create a KerasRegressor object for GridSearchCV\n",
        "tabular_gan_model = KerasRegressor(build_fn=build_gan_model, verbose=0)\n",
        "\n",
        "monitor = EarlyStopping(monitor='val_loss', min_delta=1e-3, \n",
        "    patience=5, verbose=1, mode='auto',\n",
        "    restore_best_weights=True)\n",
        "\n",
        "# Define the parameter grid for grid search\n",
        "param_grid = {'num_layers': [1, 2, 3, 4, 5]}\n",
        "# Perform cross-validation grid search\n",
        "grid_search = GridSearchCV(estimator=tabular_gan_model, param_grid=param_grid, cv=3, scoring='neg_mean_squared_error')\n",
        "\n",
        "grid_search.fit(x_train, y_train)\n",
        "#grid_search.fit(x_train,y_train,validation_data=(x_test,y_test),\n",
        "#        callbacks=[monitor], verbose=2,epochs=1000)\n",
        "\n",
        "# Print the best parameter and corresponding MSE score\n",
        "best_num_layers = grid_search.best_params_['num_layers']\n",
        "best_mse_score = -grid_search.best_score_\n",
        "print(\"Best number of layers:\", best_num_layers)\n",
        "print(\"Best MSE score:\", best_mse_score)"
      ]
    },
    {
      "cell_type": "code",
      "execution_count": null,
      "id": "db0c6c8a",
      "metadata": {
        "scrolled": true,
        "id": "db0c6c8a",
        "outputId": "b8214181-2358-4a05-ecf1-02fc8fd86b05",
        "colab": {
          "base_uri": "https://localhost:8080/"
        }
      },
      "outputs": [
        {
          "output_type": "stream",
          "name": "stdout",
          "text": [
            "Model: \"sequential_15\"\n",
            "_________________________________________________________________\n",
            " Layer (type)                Output Shape              Param #   \n",
            "=================================================================\n",
            " dense_75 (Dense)            (None, 29)                870       \n",
            "                                                                 \n",
            " dense_76 (Dense)            (None, 14)                420       \n",
            "                                                                 \n",
            " dense_77 (Dense)            (None, 7)                 105       \n",
            "                                                                 \n",
            " dense_78 (Dense)            (None, 1)                 8         \n",
            "                                                                 \n",
            "=================================================================\n",
            "Total params: 1,403\n",
            "Trainable params: 1,403\n",
            "Non-trainable params: 0\n",
            "_________________________________________________________________\n"
          ]
        }
      ],
      "source": [
        "best_model = grid_search.best_estimator_.model\n",
        "best_model.summary()"
      ]
    },
    {
      "cell_type": "code",
      "execution_count": null,
      "id": "63d1684d",
      "metadata": {
        "scrolled": true,
        "id": "63d1684d",
        "outputId": "b618e9b6-0a60-4e16-fd6c-602c89d62dae",
        "colab": {
          "base_uri": "https://localhost:8080/"
        }
      },
      "outputs": [
        {
          "output_type": "stream",
          "name": "stdout",
          "text": [
            "Epoch 1/1000\n",
            "198/198 - 2s - loss: 526.0227 - val_loss: 3.4103 - 2s/epoch - 11ms/step\n",
            "Epoch 2/1000\n",
            "198/198 - 1s - loss: 3.5465 - val_loss: 3.2760 - 1s/epoch - 5ms/step\n",
            "Epoch 3/1000\n",
            "198/198 - 1s - loss: 3.4269 - val_loss: 3.2767 - 1s/epoch - 7ms/step\n",
            "Epoch 4/1000\n",
            "198/198 - 1s - loss: 3.2660 - val_loss: 3.0023 - 882ms/epoch - 4ms/step\n",
            "Epoch 5/1000\n",
            "198/198 - 1s - loss: 3.1024 - val_loss: 3.0470 - 739ms/epoch - 4ms/step\n",
            "Epoch 6/1000\n",
            "198/198 - 1s - loss: 2.9280 - val_loss: 3.2613 - 746ms/epoch - 4ms/step\n",
            "Epoch 7/1000\n",
            "198/198 - 1s - loss: 2.6862 - val_loss: 2.4167 - 641ms/epoch - 3ms/step\n",
            "Epoch 8/1000\n",
            "198/198 - 0s - loss: 2.5377 - val_loss: 2.2043 - 350ms/epoch - 2ms/step\n",
            "Epoch 9/1000\n",
            "198/198 - 0s - loss: 2.2289 - val_loss: 2.8296 - 359ms/epoch - 2ms/step\n",
            "Epoch 10/1000\n",
            "198/198 - 0s - loss: 2.0615 - val_loss: 1.7116 - 355ms/epoch - 2ms/step\n",
            "Epoch 11/1000\n",
            "198/198 - 0s - loss: 1.7333 - val_loss: 3.0405 - 353ms/epoch - 2ms/step\n",
            "Epoch 12/1000\n",
            "198/198 - 0s - loss: 1.5388 - val_loss: 1.6158 - 362ms/epoch - 2ms/step\n",
            "Epoch 13/1000\n",
            "198/198 - 0s - loss: 1.4600 - val_loss: 2.8867 - 362ms/epoch - 2ms/step\n",
            "Epoch 14/1000\n",
            "198/198 - 0s - loss: 1.4051 - val_loss: 2.7616 - 363ms/epoch - 2ms/step\n",
            "Epoch 15/1000\n",
            "198/198 - 0s - loss: 1.3323 - val_loss: 2.0583 - 355ms/epoch - 2ms/step\n",
            "Epoch 16/1000\n",
            "198/198 - 0s - loss: 1.1984 - val_loss: 1.1516 - 370ms/epoch - 2ms/step\n",
            "Epoch 17/1000\n",
            "198/198 - 0s - loss: 1.0880 - val_loss: 1.2152 - 375ms/epoch - 2ms/step\n",
            "Epoch 18/1000\n",
            "198/198 - 0s - loss: 1.1491 - val_loss: 2.5013 - 390ms/epoch - 2ms/step\n",
            "Epoch 19/1000\n",
            "198/198 - 0s - loss: 1.1289 - val_loss: 2.0125 - 358ms/epoch - 2ms/step\n",
            "Epoch 20/1000\n",
            "198/198 - 0s - loss: 1.2004 - val_loss: 5.1226 - 367ms/epoch - 2ms/step\n",
            "Epoch 21/1000\n",
            "Restoring model weights from the end of the best epoch: 16.\n",
            "198/198 - 0s - loss: 1.1442 - val_loss: 2.2514 - 380ms/epoch - 2ms/step\n",
            "Epoch 21: early stopping\n",
            "CPU times: user 10.7 s, sys: 400 ms, total: 11.1 s\n",
            "Wall time: 12.9 s\n"
          ]
        },
        {
          "output_type": "execute_result",
          "data": {
            "text/plain": [
              "<keras.callbacks.History at 0x7f1150d2ce20>"
            ]
          },
          "metadata": {},
          "execution_count": 9
        }
      ],
      "source": [
        "%%time\n",
        "# Build the neural network\n",
        "model = Sequential()\n",
        "# 1st layer\n",
        "model.add(Dense(x_train.shape[1], input_dim=x_train.shape[1], activation='relu')) \n",
        "model.add(Dense((int(x_train.shape[1]/2)), activation='relu')) # Hidden 1\n",
        "model.add(Dense((int(x_train.shape[1]/4)), activation='relu')) # Hidden 2\n",
        "model.add(Dense((int(x_train.shape[1]/8)), activation='relu')) # Hidden 3\n",
        "model.add(Dense(1)) # Output\n",
        "model.compile(loss='mean_squared_error', optimizer='adam')\n",
        "\n",
        "monitor = EarlyStopping(monitor='val_loss', min_delta=1e-3, \n",
        "        patience=5, verbose=1, mode='auto',\n",
        "        restore_best_weights=True)\n",
        "model.fit(x_train,y_train,validation_data=(x_test,y_test),\n",
        "        callbacks=[monitor], verbose=2,epochs=1000)"
      ]
    },
    {
      "cell_type": "code",
      "execution_count": null,
      "id": "999d6881-fe79-4194-9afb-b53c14b655cc",
      "metadata": {
        "id": "999d6881-fe79-4194-9afb-b53c14b655cc",
        "outputId": "621aa5d6-d59f-4346-c4ca-fafb024f9dcb",
        "colab": {
          "base_uri": "https://localhost:8080/"
        }
      },
      "outputs": [
        {
          "output_type": "stream",
          "name": "stdout",
          "text": [
            "50/50 [==============================] - 0s 1ms/step\n",
            "Final score (RMSE): 1.0731030549199259\n"
          ]
        }
      ],
      "source": [
        "pred = model.predict(x_test)\n",
        "score = np.sqrt(metrics.mean_squared_error(pred,y_test))\n",
        "print(\"Final score (RMSE): {}\".format(score))"
      ]
    },
    {
      "cell_type": "code",
      "execution_count": null,
      "id": "39752c96-9a70-4bff-b2ea-da2414a67536",
      "metadata": {
        "id": "39752c96-9a70-4bff-b2ea-da2414a67536",
        "outputId": "8bd727f2-0990-4e40-a461-5b007345d531",
        "colab": {
          "base_uri": "https://localhost:8080/",
          "height": 116,
          "referenced_widgets": [
            "c8a40bdeeddc454c92d150edd10d51e8",
            "e123153a37734c378dc2cbc3262bcde4",
            "8990f4d8afaa4500a2a03a1a73066097",
            "8e75ea27f5da4c129b49e7a02bcc38dd",
            "48e007d7f04b4c25ba56348e4f0729ee",
            "32c5f876f005451399b17da2262bd76c",
            "e0bf81788411481185d9686414f8f559",
            "e4ec13f5c41c4ef3b20328ad978230fa",
            "2820d0eb39674cd5ac305ec7cf71b49a",
            "51a7c59323db4bada2ecb9fb6c84b528",
            "36aa455276204f1eba9c0e1d483c4b4b",
            "9912004db07b4c42b2469121d72caf7f",
            "0f6596cd14274e2c832160b615a01d21",
            "595d0644d51a42ebbd659250cd5524ec",
            "16622a0fbe064f4fbfc14941933766c9",
            "4448e66545a445f0921875bd20284aee",
            "5ef7b96a50c14d02b448f0390e7fadff",
            "cbdae56f8ad64e7582981158515c69c0",
            "9224e17710a643c6875bd5f2a7cf1629",
            "46a22677d25744a4a55dcedcc5a3aa3c",
            "a4b9b5363b7e481a84b0ba6e3d64117e",
            "e3a49ebeb92842d8988e4d582d952dea"
          ]
        }
      },
      "outputs": [
        {
          "output_type": "display_data",
          "data": {
            "text/plain": [
              "Fitting CTGAN transformers for each column:   0%|          | 0/30 [00:00<?, ?it/s]"
            ],
            "application/vnd.jupyter.widget-view+json": {
              "version_major": 2,
              "version_minor": 0,
              "model_id": "c8a40bdeeddc454c92d150edd10d51e8"
            }
          },
          "metadata": {}
        },
        {
          "output_type": "display_data",
          "data": {
            "text/plain": [
              "Training CTGAN, epochs::   0%|          | 0/500 [00:00<?, ?it/s]"
            ],
            "application/vnd.jupyter.widget-view+json": {
              "version_major": 2,
              "version_minor": 0,
              "model_id": "9912004db07b4c42b2469121d72caf7f"
            }
          },
          "metadata": {}
        },
        {
          "output_type": "stream",
          "name": "stdout",
          "text": [
            "CPU times: user 12min 43s, sys: 24 s, total: 13min 7s\n",
            "Wall time: 12min 50s\n"
          ]
        }
      ],
      "source": [
        "%%time\n",
        "gen_x, gen_y = GANGenerator(gen_x_times=1.1, cat_cols=None,\n",
        "           bot_filter_quantile=0.001, top_filter_quantile=0.999, \\\n",
        "              is_post_process=True,\n",
        "           adversarial_model_params={\n",
        "               \"metrics\": \"rmse\", \"max_depth\": 2, \"max_bin\": 100, \n",
        "               \"learning_rate\": 0.02, \"random_state\": \\\n",
        "                42, \"n_estimators\": 500,\n",
        "           }, pregeneration_frac=2, only_generated_data=True,\\\n",
        "           gan_params = {\"batch_size\": 500, \"patience\": 25, \\\n",
        "          \"epochs\" : 500,}).generate_data_pipe(df_x_train, df_y_train,\\\n",
        "          df_x_test, deep_copy=True, only_adversarial=False, \\\n",
        "          use_adversarial=True)"
      ]
    },
    {
      "cell_type": "code",
      "execution_count": null,
      "id": "f19ffcac-e5e7-4c58-83e8-ae9e47f43c6e",
      "metadata": {
        "id": "f19ffcac-e5e7-4c58-83e8-ae9e47f43c6e",
        "outputId": "a6f5ae75-314b-4637-b3c0-2d55e562cc92",
        "colab": {
          "base_uri": "https://localhost:8080/"
        }
      },
      "outputs": [
        {
          "output_type": "execute_result",
          "data": {
            "text/plain": [
              "(5975, 30)"
            ]
          },
          "metadata": {},
          "execution_count": 12
        }
      ],
      "source": [
        "#df_new=gen_x.merge(gen_y)\n",
        "synthetic_data=pd.concat((gen_x,gen_y),axis=1)\n",
        "synthetic_data.shape"
      ]
    },
    {
      "cell_type": "code",
      "execution_count": null,
      "id": "06895e1f",
      "metadata": {
        "id": "06895e1f",
        "outputId": "f1108a11-ba5d-44f0-8833-ace0ab4f3964",
        "colab": {
          "base_uri": "https://localhost:8080/"
        }
      },
      "outputs": [
        {
          "output_type": "stream",
          "name": "stdout",
          "text": [
            "Number of rows in synthetic dataset that are complete copies of original dataset and are dropped: 13\n"
          ]
        }
      ],
      "source": [
        "# original_data: Original dataset as pandas DataFrame\n",
        "# synthetic_data: Synthetically generated dataset from CTGAN as pandas DataFrame\n",
        "\n",
        "# Find duplicate rows in the synthetic dataset\n",
        "duplicates = synthetic_data.duplicated(subset=original_data.columns)\n",
        "\n",
        "# Drop the duplicate rows from the synthetic dataset\n",
        "synthetic_data = synthetic_data[~duplicates]\n",
        "\n",
        "# Print the count of duplicate rows\n",
        "print(\"Number of rows in synthetic dataset that are complete copies of original dataset and are dropped:\", duplicates.sum())"
      ]
    },
    {
      "cell_type": "code",
      "execution_count": null,
      "id": "3d0394bf",
      "metadata": {
        "id": "3d0394bf",
        "outputId": "09763f0c-fde8-4668-cb17-ca8e9e34c2ac",
        "colab": {
          "base_uri": "https://localhost:8080/"
        }
      },
      "outputs": [
        {
          "output_type": "execute_result",
          "data": {
            "text/plain": [
              "(5962, 30)"
            ]
          },
          "metadata": {},
          "execution_count": 14
        }
      ],
      "source": [
        "synthetic_data.shape"
      ]
    },
    {
      "cell_type": "code",
      "execution_count": null,
      "id": "6df35584-8722-40d9-b656-5dc1e0d3a369",
      "metadata": {
        "id": "6df35584-8722-40d9-b656-5dc1e0d3a369",
        "outputId": "aaefabb5-f6ae-451d-eb71-9af9bb5ecb4b",
        "colab": {
          "base_uri": "https://localhost:8080/"
        }
      },
      "outputs": [
        {
          "output_type": "stream",
          "name": "stdout",
          "text": [
            "187/187 [==============================] - 0s 1ms/step\n",
            "Final score (RMSE): 1.0296374700417914\n"
          ]
        }
      ],
      "source": [
        "# Predict\n",
        "pred = model.predict(gen_x.values)\n",
        "score = np.sqrt(metrics.mean_squared_error(pred,gen_y.values))\n",
        "print(\"Final score (RMSE): {}\".format(score))"
      ]
    },
    {
      "cell_type": "code",
      "execution_count": null,
      "id": "b15d4ff7-1bcf-4bc3-9d34-ede3551e05e6",
      "metadata": {
        "id": "b15d4ff7-1bcf-4bc3-9d34-ede3551e05e6",
        "outputId": "9162a5db-8c95-4511-aa0f-6942dc1782d3",
        "colab": {
          "base_uri": "https://localhost:8080/"
        }
      },
      "outputs": [
        {
          "output_type": "stream",
          "name": "stdout",
          "text": [
            "Number of duplicate rows: 0\n"
          ]
        }
      ],
      "source": [
        "## Checking the number of duplicate rows in Synthetic Data\n",
        "duplicate_rows = synthetic_data.duplicated()\n",
        "num_duplicates = duplicate_rows.sum()\n",
        "\n",
        "print(\"Number of duplicate rows:\", num_duplicates)"
      ]
    },
    {
      "cell_type": "code",
      "execution_count": null,
      "id": "ec6b7c47-7f9c-4e84-978c-e63d252162df",
      "metadata": {
        "id": "ec6b7c47-7f9c-4e84-978c-e63d252162df"
      },
      "outputs": [],
      "source": [
        "#synthetic_data.to_csv('CTGAN Generated data_2.csv',index=False)"
      ]
    }
  ],
  "metadata": {
    "kernelspec": {
      "display_name": "Python 3 (ipykernel)",
      "language": "python",
      "name": "python3"
    },
    "language_info": {
      "codemirror_mode": {
        "name": "ipython",
        "version": 3
      },
      "file_extension": ".py",
      "mimetype": "text/x-python",
      "name": "python",
      "nbconvert_exporter": "python",
      "pygments_lexer": "ipython3",
      "version": "3.10.9"
    },
    "colab": {
      "provenance": [],
      "include_colab_link": true
    },
    "widgets": {
      "application/vnd.jupyter.widget-state+json": {
        "c8a40bdeeddc454c92d150edd10d51e8": {
          "model_module": "@jupyter-widgets/controls",
          "model_name": "HBoxModel",
          "model_module_version": "1.5.0",
          "state": {
            "_dom_classes": [],
            "_model_module": "@jupyter-widgets/controls",
            "_model_module_version": "1.5.0",
            "_model_name": "HBoxModel",
            "_view_count": null,
            "_view_module": "@jupyter-widgets/controls",
            "_view_module_version": "1.5.0",
            "_view_name": "HBoxView",
            "box_style": "",
            "children": [
              "IPY_MODEL_e123153a37734c378dc2cbc3262bcde4",
              "IPY_MODEL_8990f4d8afaa4500a2a03a1a73066097",
              "IPY_MODEL_8e75ea27f5da4c129b49e7a02bcc38dd"
            ],
            "layout": "IPY_MODEL_48e007d7f04b4c25ba56348e4f0729ee"
          }
        },
        "e123153a37734c378dc2cbc3262bcde4": {
          "model_module": "@jupyter-widgets/controls",
          "model_name": "HTMLModel",
          "model_module_version": "1.5.0",
          "state": {
            "_dom_classes": [],
            "_model_module": "@jupyter-widgets/controls",
            "_model_module_version": "1.5.0",
            "_model_name": "HTMLModel",
            "_view_count": null,
            "_view_module": "@jupyter-widgets/controls",
            "_view_module_version": "1.5.0",
            "_view_name": "HTMLView",
            "description": "",
            "description_tooltip": null,
            "layout": "IPY_MODEL_32c5f876f005451399b17da2262bd76c",
            "placeholder": "​",
            "style": "IPY_MODEL_e0bf81788411481185d9686414f8f559",
            "value": "Fitting CTGAN transformers for each column: 100%"
          }
        },
        "8990f4d8afaa4500a2a03a1a73066097": {
          "model_module": "@jupyter-widgets/controls",
          "model_name": "FloatProgressModel",
          "model_module_version": "1.5.0",
          "state": {
            "_dom_classes": [],
            "_model_module": "@jupyter-widgets/controls",
            "_model_module_version": "1.5.0",
            "_model_name": "FloatProgressModel",
            "_view_count": null,
            "_view_module": "@jupyter-widgets/controls",
            "_view_module_version": "1.5.0",
            "_view_name": "ProgressView",
            "bar_style": "success",
            "description": "",
            "description_tooltip": null,
            "layout": "IPY_MODEL_e4ec13f5c41c4ef3b20328ad978230fa",
            "max": 30,
            "min": 0,
            "orientation": "horizontal",
            "style": "IPY_MODEL_2820d0eb39674cd5ac305ec7cf71b49a",
            "value": 30
          }
        },
        "8e75ea27f5da4c129b49e7a02bcc38dd": {
          "model_module": "@jupyter-widgets/controls",
          "model_name": "HTMLModel",
          "model_module_version": "1.5.0",
          "state": {
            "_dom_classes": [],
            "_model_module": "@jupyter-widgets/controls",
            "_model_module_version": "1.5.0",
            "_model_name": "HTMLModel",
            "_view_count": null,
            "_view_module": "@jupyter-widgets/controls",
            "_view_module_version": "1.5.0",
            "_view_name": "HTMLView",
            "description": "",
            "description_tooltip": null,
            "layout": "IPY_MODEL_51a7c59323db4bada2ecb9fb6c84b528",
            "placeholder": "​",
            "style": "IPY_MODEL_36aa455276204f1eba9c0e1d483c4b4b",
            "value": " 30/30 [00:33&lt;00:00,  1.05s/it]"
          }
        },
        "48e007d7f04b4c25ba56348e4f0729ee": {
          "model_module": "@jupyter-widgets/base",
          "model_name": "LayoutModel",
          "model_module_version": "1.2.0",
          "state": {
            "_model_module": "@jupyter-widgets/base",
            "_model_module_version": "1.2.0",
            "_model_name": "LayoutModel",
            "_view_count": null,
            "_view_module": "@jupyter-widgets/base",
            "_view_module_version": "1.2.0",
            "_view_name": "LayoutView",
            "align_content": null,
            "align_items": null,
            "align_self": null,
            "border": null,
            "bottom": null,
            "display": null,
            "flex": null,
            "flex_flow": null,
            "grid_area": null,
            "grid_auto_columns": null,
            "grid_auto_flow": null,
            "grid_auto_rows": null,
            "grid_column": null,
            "grid_gap": null,
            "grid_row": null,
            "grid_template_areas": null,
            "grid_template_columns": null,
            "grid_template_rows": null,
            "height": null,
            "justify_content": null,
            "justify_items": null,
            "left": null,
            "margin": null,
            "max_height": null,
            "max_width": null,
            "min_height": null,
            "min_width": null,
            "object_fit": null,
            "object_position": null,
            "order": null,
            "overflow": null,
            "overflow_x": null,
            "overflow_y": null,
            "padding": null,
            "right": null,
            "top": null,
            "visibility": null,
            "width": null
          }
        },
        "32c5f876f005451399b17da2262bd76c": {
          "model_module": "@jupyter-widgets/base",
          "model_name": "LayoutModel",
          "model_module_version": "1.2.0",
          "state": {
            "_model_module": "@jupyter-widgets/base",
            "_model_module_version": "1.2.0",
            "_model_name": "LayoutModel",
            "_view_count": null,
            "_view_module": "@jupyter-widgets/base",
            "_view_module_version": "1.2.0",
            "_view_name": "LayoutView",
            "align_content": null,
            "align_items": null,
            "align_self": null,
            "border": null,
            "bottom": null,
            "display": null,
            "flex": null,
            "flex_flow": null,
            "grid_area": null,
            "grid_auto_columns": null,
            "grid_auto_flow": null,
            "grid_auto_rows": null,
            "grid_column": null,
            "grid_gap": null,
            "grid_row": null,
            "grid_template_areas": null,
            "grid_template_columns": null,
            "grid_template_rows": null,
            "height": null,
            "justify_content": null,
            "justify_items": null,
            "left": null,
            "margin": null,
            "max_height": null,
            "max_width": null,
            "min_height": null,
            "min_width": null,
            "object_fit": null,
            "object_position": null,
            "order": null,
            "overflow": null,
            "overflow_x": null,
            "overflow_y": null,
            "padding": null,
            "right": null,
            "top": null,
            "visibility": null,
            "width": null
          }
        },
        "e0bf81788411481185d9686414f8f559": {
          "model_module": "@jupyter-widgets/controls",
          "model_name": "DescriptionStyleModel",
          "model_module_version": "1.5.0",
          "state": {
            "_model_module": "@jupyter-widgets/controls",
            "_model_module_version": "1.5.0",
            "_model_name": "DescriptionStyleModel",
            "_view_count": null,
            "_view_module": "@jupyter-widgets/base",
            "_view_module_version": "1.2.0",
            "_view_name": "StyleView",
            "description_width": ""
          }
        },
        "e4ec13f5c41c4ef3b20328ad978230fa": {
          "model_module": "@jupyter-widgets/base",
          "model_name": "LayoutModel",
          "model_module_version": "1.2.0",
          "state": {
            "_model_module": "@jupyter-widgets/base",
            "_model_module_version": "1.2.0",
            "_model_name": "LayoutModel",
            "_view_count": null,
            "_view_module": "@jupyter-widgets/base",
            "_view_module_version": "1.2.0",
            "_view_name": "LayoutView",
            "align_content": null,
            "align_items": null,
            "align_self": null,
            "border": null,
            "bottom": null,
            "display": null,
            "flex": null,
            "flex_flow": null,
            "grid_area": null,
            "grid_auto_columns": null,
            "grid_auto_flow": null,
            "grid_auto_rows": null,
            "grid_column": null,
            "grid_gap": null,
            "grid_row": null,
            "grid_template_areas": null,
            "grid_template_columns": null,
            "grid_template_rows": null,
            "height": null,
            "justify_content": null,
            "justify_items": null,
            "left": null,
            "margin": null,
            "max_height": null,
            "max_width": null,
            "min_height": null,
            "min_width": null,
            "object_fit": null,
            "object_position": null,
            "order": null,
            "overflow": null,
            "overflow_x": null,
            "overflow_y": null,
            "padding": null,
            "right": null,
            "top": null,
            "visibility": null,
            "width": null
          }
        },
        "2820d0eb39674cd5ac305ec7cf71b49a": {
          "model_module": "@jupyter-widgets/controls",
          "model_name": "ProgressStyleModel",
          "model_module_version": "1.5.0",
          "state": {
            "_model_module": "@jupyter-widgets/controls",
            "_model_module_version": "1.5.0",
            "_model_name": "ProgressStyleModel",
            "_view_count": null,
            "_view_module": "@jupyter-widgets/base",
            "_view_module_version": "1.2.0",
            "_view_name": "StyleView",
            "bar_color": null,
            "description_width": ""
          }
        },
        "51a7c59323db4bada2ecb9fb6c84b528": {
          "model_module": "@jupyter-widgets/base",
          "model_name": "LayoutModel",
          "model_module_version": "1.2.0",
          "state": {
            "_model_module": "@jupyter-widgets/base",
            "_model_module_version": "1.2.0",
            "_model_name": "LayoutModel",
            "_view_count": null,
            "_view_module": "@jupyter-widgets/base",
            "_view_module_version": "1.2.0",
            "_view_name": "LayoutView",
            "align_content": null,
            "align_items": null,
            "align_self": null,
            "border": null,
            "bottom": null,
            "display": null,
            "flex": null,
            "flex_flow": null,
            "grid_area": null,
            "grid_auto_columns": null,
            "grid_auto_flow": null,
            "grid_auto_rows": null,
            "grid_column": null,
            "grid_gap": null,
            "grid_row": null,
            "grid_template_areas": null,
            "grid_template_columns": null,
            "grid_template_rows": null,
            "height": null,
            "justify_content": null,
            "justify_items": null,
            "left": null,
            "margin": null,
            "max_height": null,
            "max_width": null,
            "min_height": null,
            "min_width": null,
            "object_fit": null,
            "object_position": null,
            "order": null,
            "overflow": null,
            "overflow_x": null,
            "overflow_y": null,
            "padding": null,
            "right": null,
            "top": null,
            "visibility": null,
            "width": null
          }
        },
        "36aa455276204f1eba9c0e1d483c4b4b": {
          "model_module": "@jupyter-widgets/controls",
          "model_name": "DescriptionStyleModel",
          "model_module_version": "1.5.0",
          "state": {
            "_model_module": "@jupyter-widgets/controls",
            "_model_module_version": "1.5.0",
            "_model_name": "DescriptionStyleModel",
            "_view_count": null,
            "_view_module": "@jupyter-widgets/base",
            "_view_module_version": "1.2.0",
            "_view_name": "StyleView",
            "description_width": ""
          }
        },
        "9912004db07b4c42b2469121d72caf7f": {
          "model_module": "@jupyter-widgets/controls",
          "model_name": "HBoxModel",
          "model_module_version": "1.5.0",
          "state": {
            "_dom_classes": [],
            "_model_module": "@jupyter-widgets/controls",
            "_model_module_version": "1.5.0",
            "_model_name": "HBoxModel",
            "_view_count": null,
            "_view_module": "@jupyter-widgets/controls",
            "_view_module_version": "1.5.0",
            "_view_name": "HBoxView",
            "box_style": "",
            "children": [
              "IPY_MODEL_0f6596cd14274e2c832160b615a01d21",
              "IPY_MODEL_595d0644d51a42ebbd659250cd5524ec",
              "IPY_MODEL_16622a0fbe064f4fbfc14941933766c9"
            ],
            "layout": "IPY_MODEL_4448e66545a445f0921875bd20284aee"
          }
        },
        "0f6596cd14274e2c832160b615a01d21": {
          "model_module": "@jupyter-widgets/controls",
          "model_name": "HTMLModel",
          "model_module_version": "1.5.0",
          "state": {
            "_dom_classes": [],
            "_model_module": "@jupyter-widgets/controls",
            "_model_module_version": "1.5.0",
            "_model_name": "HTMLModel",
            "_view_count": null,
            "_view_module": "@jupyter-widgets/controls",
            "_view_module_version": "1.5.0",
            "_view_name": "HTMLView",
            "description": "",
            "description_tooltip": null,
            "layout": "IPY_MODEL_5ef7b96a50c14d02b448f0390e7fadff",
            "placeholder": "​",
            "style": "IPY_MODEL_cbdae56f8ad64e7582981158515c69c0",
            "value": "Training CTGAN, epochs:: 100%"
          }
        },
        "595d0644d51a42ebbd659250cd5524ec": {
          "model_module": "@jupyter-widgets/controls",
          "model_name": "FloatProgressModel",
          "model_module_version": "1.5.0",
          "state": {
            "_dom_classes": [],
            "_model_module": "@jupyter-widgets/controls",
            "_model_module_version": "1.5.0",
            "_model_name": "FloatProgressModel",
            "_view_count": null,
            "_view_module": "@jupyter-widgets/controls",
            "_view_module_version": "1.5.0",
            "_view_name": "ProgressView",
            "bar_style": "success",
            "description": "",
            "description_tooltip": null,
            "layout": "IPY_MODEL_9224e17710a643c6875bd5f2a7cf1629",
            "max": 500,
            "min": 0,
            "orientation": "horizontal",
            "style": "IPY_MODEL_46a22677d25744a4a55dcedcc5a3aa3c",
            "value": 500
          }
        },
        "16622a0fbe064f4fbfc14941933766c9": {
          "model_module": "@jupyter-widgets/controls",
          "model_name": "HTMLModel",
          "model_module_version": "1.5.0",
          "state": {
            "_dom_classes": [],
            "_model_module": "@jupyter-widgets/controls",
            "_model_module_version": "1.5.0",
            "_model_name": "HTMLModel",
            "_view_count": null,
            "_view_module": "@jupyter-widgets/controls",
            "_view_module_version": "1.5.0",
            "_view_name": "HTMLView",
            "description": "",
            "description_tooltip": null,
            "layout": "IPY_MODEL_a4b9b5363b7e481a84b0ba6e3d64117e",
            "placeholder": "​",
            "style": "IPY_MODEL_e3a49ebeb92842d8988e4d582d952dea",
            "value": " 500/500 [12:07&lt;00:00,  1.42s/it]"
          }
        },
        "4448e66545a445f0921875bd20284aee": {
          "model_module": "@jupyter-widgets/base",
          "model_name": "LayoutModel",
          "model_module_version": "1.2.0",
          "state": {
            "_model_module": "@jupyter-widgets/base",
            "_model_module_version": "1.2.0",
            "_model_name": "LayoutModel",
            "_view_count": null,
            "_view_module": "@jupyter-widgets/base",
            "_view_module_version": "1.2.0",
            "_view_name": "LayoutView",
            "align_content": null,
            "align_items": null,
            "align_self": null,
            "border": null,
            "bottom": null,
            "display": null,
            "flex": null,
            "flex_flow": null,
            "grid_area": null,
            "grid_auto_columns": null,
            "grid_auto_flow": null,
            "grid_auto_rows": null,
            "grid_column": null,
            "grid_gap": null,
            "grid_row": null,
            "grid_template_areas": null,
            "grid_template_columns": null,
            "grid_template_rows": null,
            "height": null,
            "justify_content": null,
            "justify_items": null,
            "left": null,
            "margin": null,
            "max_height": null,
            "max_width": null,
            "min_height": null,
            "min_width": null,
            "object_fit": null,
            "object_position": null,
            "order": null,
            "overflow": null,
            "overflow_x": null,
            "overflow_y": null,
            "padding": null,
            "right": null,
            "top": null,
            "visibility": null,
            "width": null
          }
        },
        "5ef7b96a50c14d02b448f0390e7fadff": {
          "model_module": "@jupyter-widgets/base",
          "model_name": "LayoutModel",
          "model_module_version": "1.2.0",
          "state": {
            "_model_module": "@jupyter-widgets/base",
            "_model_module_version": "1.2.0",
            "_model_name": "LayoutModel",
            "_view_count": null,
            "_view_module": "@jupyter-widgets/base",
            "_view_module_version": "1.2.0",
            "_view_name": "LayoutView",
            "align_content": null,
            "align_items": null,
            "align_self": null,
            "border": null,
            "bottom": null,
            "display": null,
            "flex": null,
            "flex_flow": null,
            "grid_area": null,
            "grid_auto_columns": null,
            "grid_auto_flow": null,
            "grid_auto_rows": null,
            "grid_column": null,
            "grid_gap": null,
            "grid_row": null,
            "grid_template_areas": null,
            "grid_template_columns": null,
            "grid_template_rows": null,
            "height": null,
            "justify_content": null,
            "justify_items": null,
            "left": null,
            "margin": null,
            "max_height": null,
            "max_width": null,
            "min_height": null,
            "min_width": null,
            "object_fit": null,
            "object_position": null,
            "order": null,
            "overflow": null,
            "overflow_x": null,
            "overflow_y": null,
            "padding": null,
            "right": null,
            "top": null,
            "visibility": null,
            "width": null
          }
        },
        "cbdae56f8ad64e7582981158515c69c0": {
          "model_module": "@jupyter-widgets/controls",
          "model_name": "DescriptionStyleModel",
          "model_module_version": "1.5.0",
          "state": {
            "_model_module": "@jupyter-widgets/controls",
            "_model_module_version": "1.5.0",
            "_model_name": "DescriptionStyleModel",
            "_view_count": null,
            "_view_module": "@jupyter-widgets/base",
            "_view_module_version": "1.2.0",
            "_view_name": "StyleView",
            "description_width": ""
          }
        },
        "9224e17710a643c6875bd5f2a7cf1629": {
          "model_module": "@jupyter-widgets/base",
          "model_name": "LayoutModel",
          "model_module_version": "1.2.0",
          "state": {
            "_model_module": "@jupyter-widgets/base",
            "_model_module_version": "1.2.0",
            "_model_name": "LayoutModel",
            "_view_count": null,
            "_view_module": "@jupyter-widgets/base",
            "_view_module_version": "1.2.0",
            "_view_name": "LayoutView",
            "align_content": null,
            "align_items": null,
            "align_self": null,
            "border": null,
            "bottom": null,
            "display": null,
            "flex": null,
            "flex_flow": null,
            "grid_area": null,
            "grid_auto_columns": null,
            "grid_auto_flow": null,
            "grid_auto_rows": null,
            "grid_column": null,
            "grid_gap": null,
            "grid_row": null,
            "grid_template_areas": null,
            "grid_template_columns": null,
            "grid_template_rows": null,
            "height": null,
            "justify_content": null,
            "justify_items": null,
            "left": null,
            "margin": null,
            "max_height": null,
            "max_width": null,
            "min_height": null,
            "min_width": null,
            "object_fit": null,
            "object_position": null,
            "order": null,
            "overflow": null,
            "overflow_x": null,
            "overflow_y": null,
            "padding": null,
            "right": null,
            "top": null,
            "visibility": null,
            "width": null
          }
        },
        "46a22677d25744a4a55dcedcc5a3aa3c": {
          "model_module": "@jupyter-widgets/controls",
          "model_name": "ProgressStyleModel",
          "model_module_version": "1.5.0",
          "state": {
            "_model_module": "@jupyter-widgets/controls",
            "_model_module_version": "1.5.0",
            "_model_name": "ProgressStyleModel",
            "_view_count": null,
            "_view_module": "@jupyter-widgets/base",
            "_view_module_version": "1.2.0",
            "_view_name": "StyleView",
            "bar_color": null,
            "description_width": ""
          }
        },
        "a4b9b5363b7e481a84b0ba6e3d64117e": {
          "model_module": "@jupyter-widgets/base",
          "model_name": "LayoutModel",
          "model_module_version": "1.2.0",
          "state": {
            "_model_module": "@jupyter-widgets/base",
            "_model_module_version": "1.2.0",
            "_model_name": "LayoutModel",
            "_view_count": null,
            "_view_module": "@jupyter-widgets/base",
            "_view_module_version": "1.2.0",
            "_view_name": "LayoutView",
            "align_content": null,
            "align_items": null,
            "align_self": null,
            "border": null,
            "bottom": null,
            "display": null,
            "flex": null,
            "flex_flow": null,
            "grid_area": null,
            "grid_auto_columns": null,
            "grid_auto_flow": null,
            "grid_auto_rows": null,
            "grid_column": null,
            "grid_gap": null,
            "grid_row": null,
            "grid_template_areas": null,
            "grid_template_columns": null,
            "grid_template_rows": null,
            "height": null,
            "justify_content": null,
            "justify_items": null,
            "left": null,
            "margin": null,
            "max_height": null,
            "max_width": null,
            "min_height": null,
            "min_width": null,
            "object_fit": null,
            "object_position": null,
            "order": null,
            "overflow": null,
            "overflow_x": null,
            "overflow_y": null,
            "padding": null,
            "right": null,
            "top": null,
            "visibility": null,
            "width": null
          }
        },
        "e3a49ebeb92842d8988e4d582d952dea": {
          "model_module": "@jupyter-widgets/controls",
          "model_name": "DescriptionStyleModel",
          "model_module_version": "1.5.0",
          "state": {
            "_model_module": "@jupyter-widgets/controls",
            "_model_module_version": "1.5.0",
            "_model_name": "DescriptionStyleModel",
            "_view_count": null,
            "_view_module": "@jupyter-widgets/base",
            "_view_module_version": "1.2.0",
            "_view_name": "StyleView",
            "description_width": ""
          }
        }
      }
    }
  },
  "nbformat": 4,
  "nbformat_minor": 5
}